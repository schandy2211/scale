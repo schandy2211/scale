{
 "cells": [
  {
   "cell_type": "markdown",
   "id": "201eebba",
   "metadata": {},
   "source": [
    "# LLM-Agent-Chem — Closed Loop Demo"
   ]
  },
  {
   "cell_type": "code",
   "execution_count": 1,
   "id": "492f406e",
   "metadata": {},
   "outputs": [
    {
     "ename": "ModuleNotFoundError",
     "evalue": "No module named 'agent'",
     "output_type": "error",
     "traceback": [
      "\u001b[0;31m---------------------------------------------------------------------------\u001b[0m",
      "\u001b[0;31mModuleNotFoundError\u001b[0m                       Traceback (most recent call last)",
      "\u001b[0;32m/var/folders/nk/szl8m69d0jl6l8sfcdyj4hq40000gn/T/ipykernel_91913/1872696555.py\u001b[0m in \u001b[0;36m<module>\u001b[0;34m\u001b[0m\n\u001b[1;32m      5\u001b[0m \u001b[0;32mfrom\u001b[0m \u001b[0mtqdm\u001b[0m \u001b[0;32mimport\u001b[0m \u001b[0mtqdm\u001b[0m\u001b[0;34m\u001b[0m\u001b[0;34m\u001b[0m\u001b[0m\n\u001b[1;32m      6\u001b[0m \u001b[0;34m\u001b[0m\u001b[0m\n\u001b[0;32m----> 7\u001b[0;31m \u001b[0;32mfrom\u001b[0m \u001b[0magent\u001b[0m\u001b[0;34m.\u001b[0m\u001b[0mllm\u001b[0m \u001b[0;32mimport\u001b[0m \u001b[0mpropose_smiles\u001b[0m\u001b[0;34m\u001b[0m\u001b[0;34m\u001b[0m\u001b[0m\n\u001b[0m\u001b[1;32m      8\u001b[0m \u001b[0;32mfrom\u001b[0m \u001b[0magent\u001b[0m\u001b[0;34m.\u001b[0m\u001b[0mretrieval\u001b[0m \u001b[0;32mimport\u001b[0m \u001b[0mtop_k_neighbors\u001b[0m\u001b[0;34m\u001b[0m\u001b[0;34m\u001b[0m\u001b[0m\n\u001b[1;32m      9\u001b[0m \u001b[0;32mfrom\u001b[0m \u001b[0magent\u001b[0m\u001b[0;34m.\u001b[0m\u001b[0mscoring\u001b[0m \u001b[0;32mimport\u001b[0m \u001b[0mscore_knn\u001b[0m\u001b[0;34m,\u001b[0m \u001b[0mtrain_ridge\u001b[0m\u001b[0;34m,\u001b[0m \u001b[0mscore_ridge\u001b[0m\u001b[0;34m\u001b[0m\u001b[0;34m\u001b[0m\u001b[0m\n",
      "\u001b[0;31mModuleNotFoundError\u001b[0m: No module named 'agent'"
     ]
    }
   ],
   "source": [
    "from pathlib import Path\n",
    "import random\n",
    "import pandas as pd\n",
    "import matplotlib.pyplot as plt\n",
    "from tqdm import tqdm\n",
    "\n",
    "from agent.llm import propose_smiles\n",
    "from agent.retrieval import top_k_neighbors\n",
    "from agent.scoring import score_knn, train_ridge, score_ridge\n",
    "\n",
    "# Ensure results folders\n",
    "Path('results/figures').mkdir(parents=True, exist_ok=True)\n",
    "\n",
    "# Train ridge model (saves artifact if not present)\n",
    "_ = train_ridge()\n",
    "print('Ridge model is trained and ready.')\n"
   ]
  },
  {
   "cell_type": "code",
   "execution_count": 2,
   "id": "16f25fcf",
   "metadata": {},
   "outputs": [
    {
     "ename": "NameError",
     "evalue": "name 'score_ridge' is not defined",
     "output_type": "error",
     "traceback": [
      "\u001b[0;31m---------------------------------------------------------------------------\u001b[0m",
      "\u001b[0;31mNameError\u001b[0m                                 Traceback (most recent call last)",
      "\u001b[0;32m/var/folders/nk/szl8m69d0jl6l8sfcdyj4hq40000gn/T/ipykernel_91913/2793544008.py\u001b[0m in \u001b[0;36m<module>\u001b[0;34m\u001b[0m\n\u001b[1;32m      6\u001b[0m \u001b[0;34m\u001b[0m\u001b[0m\n\u001b[1;32m      7\u001b[0m \u001b[0mcurrent\u001b[0m \u001b[0;34m=\u001b[0m \u001b[0mseed_smiles\u001b[0m\u001b[0;34m\u001b[0m\u001b[0;34m\u001b[0m\u001b[0m\n\u001b[0;32m----> 8\u001b[0;31m \u001b[0mcurrent_score\u001b[0m \u001b[0;34m=\u001b[0m \u001b[0mscore_ridge\u001b[0m\u001b[0;34m(\u001b[0m\u001b[0mcurrent\u001b[0m\u001b[0;34m)\u001b[0m\u001b[0;34m\u001b[0m\u001b[0;34m\u001b[0m\u001b[0m\n\u001b[0m\u001b[1;32m      9\u001b[0m \u001b[0mvisited\u001b[0m \u001b[0;34m=\u001b[0m \u001b[0mset\u001b[0m\u001b[0;34m(\u001b[0m\u001b[0;34m[\u001b[0m\u001b[0mcurrent\u001b[0m\u001b[0;34m]\u001b[0m\u001b[0;34m)\u001b[0m\u001b[0;34m\u001b[0m\u001b[0;34m\u001b[0m\u001b[0m\n\u001b[1;32m     10\u001b[0m \u001b[0;34m\u001b[0m\u001b[0m\n",
      "\u001b[0;31mNameError\u001b[0m: name 'score_ridge' is not defined"
     ]
    }
   ],
   "source": [
    "# Closed-loop optimization parameters\n",
    "seed_smiles = 'CC'\n",
    "n_iter = 15\n",
    "delta = 1e-3  # minimum improvement to accept\n",
    "p_explore = 0.1  # exploration probability\n",
    "\n",
    "current = seed_smiles\n",
    "current_score = score_ridge(current)\n",
    "visited = set([current])\n",
    "\n",
    "history = []\n",
    "for t in tqdm(range(n_iter)):\n",
    "    proposal, reason = propose_smiles(current)\n",
    "    neigh = top_k_neighbors(proposal, k=5)\n",
    "    knn_s = score_knn(proposal, neigh)\n",
    "    ridge_s = score_ridge(proposal)\n",
    "\n",
    "    accepted = False\n",
    "    if ridge_s >= current_score + delta:\n",
    "        accepted = True\n",
    "    elif random.random() < p_explore and proposal not in visited:\n",
    "        accepted = True\n",
    "\n",
    "    if accepted:\n",
    "        visited.add(proposal)\n",
    "        current, current_score = proposal, ridge_s\n",
    "\n",
    "    history.append({\n",
    "        'iter': t,\n",
    "        'original_smiles': current if accepted else current,\n",
    "        'proposal': proposal,\n",
    "        'reason': reason,\n",
    "        'score_knn': float(knn_s),\n",
    "        'score_ridge': float(ridge_s),\n",
    "        'accepted': accepted,\n",
    "        'current_score': float(current_score)\n",
    "    })\n",
    "\n",
    "df_hist = pd.DataFrame(history)\n",
    "df_hist.head(), df_hist.tail()\n"
   ]
  },
  {
   "cell_type": "code",
   "execution_count": null,
   "id": "c5680c99",
   "metadata": {},
   "outputs": [],
   "source": [
    "# Plot property vs iteration\n",
    "plt.figure(figsize=(6, 4))\n",
    "plt.plot(df_hist['iter'], df_hist['current_score'], marker='o')\n",
    "plt.xlabel('Iteration')\n",
    "plt.ylabel('Property (Ridge)')\n",
    "plt.title('Closed-loop optimization')\n",
    "plt.grid(True, alpha=0.3)\n",
    "plt.tight_layout()\n",
    "plt.savefig('results/figures/loop.png', dpi=150)\n",
    "plt.show()\n"
   ]
  }
 ],
 "metadata": {
  "kernelspec": {
   "display_name": "Python 3 (ipykernel)",
   "language": "python",
   "name": "python3"
  },
  "language_info": {
   "codemirror_mode": {
    "name": "ipython",
    "version": 3
   },
   "file_extension": ".py",
   "mimetype": "text/x-python",
   "name": "python",
   "nbconvert_exporter": "python",
   "pygments_lexer": "ipython3",
   "version": "3.9.13"
  }
 },
 "nbformat": 4,
 "nbformat_minor": 5
}
